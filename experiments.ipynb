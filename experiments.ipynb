{
 "cells": [
  {
   "cell_type": "code",
   "execution_count": 1,
   "id": "5f261771-556c-4875-9492-e11b942e0d24",
   "metadata": {
    "scrolled": true
   },
   "outputs": [
    {
     "data": {
      "text/plain": [
       "2-element Vector{FOM}:\n",
       " BFGS()\n",
       " SPGM2\n",
       "  memory_size: Int64 10\n",
       "  max_steps: Missing missing\n",
       "  x0: Missing missing\n",
       "  x: Missing missing\n",
       "  Z: Missing missing\n",
       "  G: Missing missing\n",
       "  zprime: Missing missing\n",
       "  psi_prev: Missing missing\n",
       "  taus: Missing missing\n",
       "  h: Missing missing\n",
       "  q: Missing missing\n",
       "  v: Missing missing\n",
       "  vmin: Missing missing\n",
       "  best_update: Missing missing\n",
       "  iteration: Missing missing\n"
      ]
     },
     "execution_count": 1,
     "metadata": {},
     "output_type": "execute_result"
    }
   ],
   "source": [
    "include(\"SPGM.jl\")\n",
    "include(\"SPGM2.jl\")\n",
    "include(\"SPGM_old.jl\")\n",
    "include(\"SPGM_old_old.jl\")\n",
    "include(\"alternative_methods/BFGS.jl\")\n",
    "include(\"alternative_methods/OGM.jl\")\n",
    "methods = vcat([BFGS(), SPGM2(10)])\n",
    "1"
   ]
  },
  {
   "cell_type": "code",
   "execution_count": 11,
   "id": "c646a36c-d218-4d6a-8429-531c3949f4ce",
   "metadata": {},
   "outputs": [
    {
     "name": "stdout",
     "output_type": "stream",
     "text": [
      "Processing:  LSRegrssion_HuberL1_dim128.jld2\n",
      "Method       0.1000000   0.0010000   0.0000100   \n",
      "spgm-100\n",
      " RelSubopt   4           6           9           \n",
      " Guarantee   3           8           9           \n",
      "BFGS\n",
      " RelSubopt   7           9           12          \n",
      " Guarantee   --          --          --          \n",
      "OGM\n",
      " RelSubopt   3           --          --          \n",
      " Guarantee   5           44          --          \n",
      "\n",
      "Processing:  LSRegrssion_HuberL1_dim16.jld2\n",
      "Method       0.1000000   0.0010000   0.0000100   \n",
      "spgm-100\n",
      " RelSubopt   4           5           8           \n",
      " Guarantee   3           7           8           \n",
      "BFGS\n",
      " RelSubopt   7           11          12          \n",
      " Guarantee   --          --          --          \n",
      "OGM\n",
      " RelSubopt   4           --          --          \n",
      " Guarantee   5           44          --          \n",
      "\n",
      "Processing:  LSRegrssion_HuberL1_dim256.jld2\n",
      "Method       0.1000000   0.0010000   0.0000100   \n",
      "spgm-100\n",
      " RelSubopt   4           6           9           \n",
      " Guarantee   3           8           9           \n",
      "BFGS\n",
      " RelSubopt   7           9           10          \n",
      " Guarantee   --          --          --          \n",
      "OGM\n",
      " RelSubopt   3           --          --          \n",
      " Guarantee   5           44          --          \n",
      "\n",
      "Processing:  LSRegrssion_HuberL1_dim32.jld2\n",
      "Method       0.1000000   0.0010000   0.0000100   \n",
      "spgm-100\n",
      " RelSubopt   4           5           8           \n",
      " Guarantee   3           7           8           \n",
      "BFGS\n",
      " RelSubopt   7           9           10          \n",
      " Guarantee   --          --          --          \n",
      "OGM\n",
      " RelSubopt   3           24          --          \n",
      " Guarantee   5           44          --          \n",
      "\n",
      "Processing:  LSRegrssion_HuberL1_dim512.jld2\n",
      "Method       0.1000000   0.0010000   0.0000100   \n",
      "spgm-100\n",
      " RelSubopt   4           6           9           \n",
      " Guarantee   3           8           9           \n",
      "BFGS\n",
      " RelSubopt   7           10          12          \n",
      " Guarantee   --          --          --          \n",
      "OGM\n",
      " RelSubopt   3           --          --          \n",
      " Guarantee   5           44          --          \n",
      "\n",
      "Processing:  LSRegrssion_HuberL1_dim64.jld2\n",
      "Method       0.1000000   0.0010000   0.0000100   \n",
      "spgm-100\n",
      " RelSubopt   4           5           9           \n",
      " Guarantee   3           8           11          \n",
      "BFGS\n",
      " RelSubopt   7           10          12          \n",
      " Guarantee   --          --          --          \n",
      "OGM\n",
      " RelSubopt   4           27          --          \n",
      " Guarantee   5           44          --          \n",
      "\n",
      "Processing:  LSRegrssion_HuberL1_dim8.jld2\n",
      "Method       0.1000000   0.0010000   0.0000100   \n",
      "spgm-100\n",
      " RelSubopt   4           5           6           \n",
      " Guarantee   3           5           8           \n",
      "BFGS\n",
      " RelSubopt   7           9           11          \n",
      " Guarantee   --          --          --          \n",
      "OGM\n",
      " RelSubopt   4           --          --          \n",
      " Guarantee   5           44          --          \n",
      "\n",
      "Processing:  LSRegrssion_HuberL2_dim128.jld2\n",
      "Method       0.1000000   0.0010000   0.0000100   \n",
      "spgm-100\n",
      " RelSubopt   4           8           9           \n",
      " Guarantee   4           8           11          \n",
      "BFGS\n",
      " RelSubopt   4           9           11          \n",
      " Guarantee   --          --          --          \n",
      "OGM\n",
      " RelSubopt   4           9           17          \n",
      " Guarantee   5           44          --          \n",
      "\n",
      "Processing:  LSRegrssion_HuberL2_dim16.jld2\n",
      "Method       0.1000000   0.0010000   0.0000100   \n",
      "spgm-100\n",
      " RelSubopt   3           5           6           \n",
      " Guarantee   4           5           8           \n",
      "BFGS\n",
      " RelSubopt   6           9           10          \n",
      " Guarantee   --          --          --          \n",
      "OGM\n",
      " RelSubopt   3           15          --          \n",
      " Guarantee   5           44          --          \n",
      "\n",
      "Processing:  LSRegrssion_HuberL2_dim256.jld2\n",
      "Method       0.1000000   0.0010000   0.0000100   \n",
      "spgm-100\n",
      " RelSubopt   3           9           10          \n",
      " Guarantee   4           9           12          \n",
      "BFGS\n",
      " RelSubopt   4           11          14          \n",
      " Guarantee   --          --          --          \n",
      "OGM\n",
      " RelSubopt   3           13          15          \n",
      " Guarantee   5           44          --          \n",
      "\n",
      "Processing:  LSRegrssion_HuberL2_dim32.jld2\n",
      "Method       0.1000000   0.0010000   0.0000100   \n",
      "spgm-100\n",
      " RelSubopt   3           6           7           \n",
      " Guarantee   4           6           9           \n",
      "BFGS\n",
      " RelSubopt   5           8           10          \n",
      " Guarantee   --          --          --          \n",
      "OGM\n",
      " RelSubopt   3           12          --          \n",
      " Guarantee   5           44          --          \n",
      "\n",
      "Processing:  LSRegrssion_HuberL2_dim512.jld2\n",
      "Method       0.1000000   0.0010000   0.0000100   \n",
      "spgm-100\n",
      " RelSubopt   2           7           11          \n",
      " Guarantee   4           10          13          \n",
      "BFGS\n",
      " RelSubopt   3           10          15          \n",
      " Guarantee   --          --          --          \n",
      "OGM\n",
      " RelSubopt   2           12          "
     ]
    },
    {
     "ename": "LoadError",
     "evalue": "InterruptException:",
     "output_type": "error",
     "traceback": [
      "InterruptException:",
      "",
      "Stacktrace:",
      " [1] smoothness(q::LinearCompositionOracle)",
      "   @ Main ~/Documents/GitHub/SubgamePerfectGradientMethod/oracle_utilities.jl:63",
      " [2] smoothness(q::SumOracle)",
      "   @ Main ~/Documents/GitHub/SubgamePerfectGradientMethod/oracle_utilities.jl:23",
      " [3] runSuiteOfTest(directory::String, methods::Vector{FOM}, targetRelAccuracies::Vector{Float64}, maxSteps::Int64)",
      "   @ Main ~/Documents/GitHub/SubgamePerfectGradientMethod/tests/tests.jl:134",
      " [4] runSuiteOfTest(directory::String, methods::Vector{FOM})",
      "   @ Main ~/Documents/GitHub/SubgamePerfectGradientMethod/tests/tests.jl:112"
     ]
    }
   ],
   "source": [
    "include(\"tests/tests.jl\")\n",
    "runSuiteOfTest(\"tests/rand_test_problems\",methods)"
   ]
  },
  {
   "cell_type": "code",
   "execution_count": 3,
   "id": "91d27f58-afd2-4b3d-abdb-ad5deda126fe",
   "metadata": {},
   "outputs": [
    {
     "data": {
      "image/svg+xml": [
       "<?xml version=\"1.0\" encoding=\"utf-8\"?>\n",
       "<svg xmlns=\"http://www.w3.org/2000/svg\" xmlns:xlink=\"http://www.w3.org/1999/xlink\" width=\"600\" height=\"400\" viewBox=\"0 0 2400 1600\">\n",
       "<defs>\n",
       "  <clipPath id=\"clip700\">\n",
       "    <rect x=\"0\" y=\"0\" width=\"2400\" height=\"1600\"/>\n",
       "  </clipPath>\n",
       "</defs>\n",
       "<path clip-path=\"url(#clip700)\" d=\"M0 1600 L2400 1600 L2400 8.88178e-14 L0 8.88178e-14  Z\" fill=\"#ffffff\" fill-rule=\"evenodd\" fill-opacity=\"1\"/>\n",
       "<defs>\n",
       "  <clipPath id=\"clip701\">\n",
       "    <rect x=\"480\" y=\"0\" width=\"1681\" height=\"1600\"/>\n",
       "  </clipPath>\n",
       "</defs>\n",
       "<path clip-path=\"url(#clip700)\" d=\"M86.9921 1486.45 L2352.76 1486.45 L2352.76 123.472 L86.9921 123.472  Z\" fill=\"#ffffff\" fill-rule=\"evenodd\" fill-opacity=\"1\"/>\n",
       "<defs>\n",
       "  <clipPath id=\"clip702\">\n",
       "    <rect x=\"86\" y=\"123\" width=\"2267\" height=\"1364\"/>\n",
       "  </clipPath>\n",
       "</defs>\n",
       "<path clip-path=\"url(#clip700)\" d=\"Mnan nan Qnan nan nan nan Qnan nan nan nan Qnan nan nan nan Qnan nan nan nan Qnan nan nan nan Qnan nan nan nan Qnan nan nan nan Qnan nan nan nan Mnan nan Qnan nan nan nan Qnan nan nan nan Qnan nan nan nan Qnan nan nan nan Qnan nan nan nan Qnan nan nan nan Qnan nan nan nan Qnan nan nan nan Z\" fill=\"#000000\" fill-rule=\"nonzero\" fill-opacity=\"1\" /><path clip-path=\"url(#clip700)\" d=\"Mnan nan Lnan nan Lnan nan Lnan nan Lnan nan Qnan nan nan nan Qnan nan nan nan Qnan nan nan nan Qnan nan nan nan Qnan nan nan nan Qnan nan nan nan Qnan nan nan nan Qnan nan nan nan Lnan nan Qnan nan nan nan Qnan nan nan nan Qnan nan nan nan Qnan nan nan nan Qnan nan nan nan Qnan nan nan nan Qnan nan nan nan Qnan nan nan nan Z\" fill=\"#000000\" fill-rule=\"nonzero\" fill-opacity=\"1\" /><path clip-path=\"url(#clip700)\" d=\"Mnan nan Lnan nan Lnan nan Lnan nan Lnan nan Qnan nan nan nan Qnan nan nan nan Qnan nan nan nan Qnan nan nan nan Qnan nan nan nan Qnan nan nan nan Qnan nan nan nan Qnan nan nan nan Lnan nan Qnan nan nan nan Qnan nan nan nan Qnan nan nan nan Qnan nan nan nan Qnan nan nan nan Qnan nan nan nan Qnan nan nan nan Qnan nan nan nan Lnan nan Z\" fill=\"#000000\" fill-rule=\"nonzero\" fill-opacity=\"1\" /><path clip-path=\"url(#clip700)\" d=\"Mnan nan Lnan nan Lnan nan Lnan nan Lnan nan Qnan nan nan nan Qnan nan nan nan Qnan nan nan nan Qnan nan nan nan Qnan nan nan nan Qnan nan nan nan Qnan nan nan nan Qnan nan nan nan Lnan nan Qnan nan nan nan Qnan nan nan nan Qnan nan nan nan Qnan nan nan nan Qnan nan nan nan Qnan nan nan nan Qnan nan nan nan Qnan nan nan nan Lnan nan Z\" fill=\"#000000\" fill-rule=\"nonzero\" fill-opacity=\"1\" /><path clip-path=\"url(#clip700)\" d=\"Mnan nan Qnan nan nan nan Qnan nan nan nan Qnan nan nan nan Qnan nan nan nan Qnan nan nan nan Qnan nan nan nan Qnan nan nan nan Qnan nan nan nan Mnan nan Qnan nan nan nan Qnan nan nan nan Qnan nan nan nan Qnan nan nan nan Qnan nan nan nan Qnan nan nan nan Qnan nan nan nan Qnan nan nan nan Z\" fill=\"#000000\" fill-rule=\"nonzero\" fill-opacity=\"1\" /><path clip-path=\"url(#clip700)\" d=\"Mnan nan Lnan nan Lnan nan Lnan nan Lnan nan Lnan nan Lnan nan Lnan nan Z\" fill=\"#000000\" fill-rule=\"nonzero\" fill-opacity=\"1\" /><path clip-path=\"url(#clip700)\" d=\"Mnan nan Lnan nan Lnan nan Lnan nan Lnan nan Qnan nan nan nan Qnan nan nan nan Qnan nan nan nan Qnan nan nan nan Qnan nan nan nan Qnan nan nan nan Qnan nan nan nan Qnan nan nan nan Lnan nan Qnan nan nan nan Qnan nan nan nan Qnan nan nan nan Qnan nan nan nan Qnan nan nan nan Qnan nan nan nan Qnan nan nan nan Qnan nan nan nan Lnan nan Z\" fill=\"#000000\" fill-rule=\"nonzero\" fill-opacity=\"1\" /><path clip-path=\"url(#clip700)\" d=\"Mnan nan Lnan nan Lnan nan Lnan nan Lnan nan Lnan nan Lnan nan Lnan nan Lnan nan Lnan nan Lnan nan Lnan nan Z\" fill=\"#000000\" fill-rule=\"nonzero\" fill-opacity=\"1\" /><path clip-path=\"url(#clip700)\" d=\"Mnan nan Qnan nan nan nan Qnan nan nan nan Qnan nan nan nan Qnan nan nan nan Qnan nan nan nan Qnan nan nan nan Qnan nan nan nan Qnan nan nan nan Mnan nan Qnan nan nan nan Qnan nan nan nan Qnan nan nan nan Qnan nan nan nan Qnan nan nan nan Qnan nan nan nan Qnan nan nan nan Qnan nan nan nan Z\" fill=\"#000000\" fill-rule=\"nonzero\" fill-opacity=\"1\" /><path clip-path=\"url(#clip700)\" d=\"Mnan nan Qnan nan nan nan Qnan nan nan nan Qnan nan nan nan Qnan nan nan nan Qnan nan nan nan Qnan nan nan nan Qnan nan nan nan Qnan nan nan nan Mnan nan Qnan nan nan nan Qnan nan nan nan Qnan nan nan nan Qnan nan nan nan Qnan nan nan nan Qnan nan nan nan Qnan nan nan nan Qnan nan nan nan Z\" fill=\"#000000\" fill-rule=\"nonzero\" fill-opacity=\"1\" /><path clip-path=\"url(#clip700)\" d=\"Mnan nan Lnan nan Lnan nan Lnan nan Lnan nan Lnan nan Lnan nan Z\" fill=\"#000000\" fill-rule=\"nonzero\" fill-opacity=\"1\" /><path clip-path=\"url(#clip700)\" d=\"Mnan nan Lnan nan Qnan nan nan nan Qnan nan nan nan Qnan nan nan nan Qnan nan nan nan Qnan nan nan nan Qnan nan nan nan Lnan nan Qnan nan nan nan Qnan nan nan nan Qnan nan nan nan Qnan nan nan nan Qnan nan nan nan Qnan nan nan nan Lnan nan Qnan nan nan nan Qnan nan nan nan Qnan nan nan nan Qnan nan nan nan Qnan nan nan nan Qnan nan nan nan Lnan nan Qnan nan nan nan Qnan nan nan nan Qnan nan nan nan Qnan nan nan nan Qnan nan nan nan Qnan nan nan nan Z\" fill=\"#000000\" fill-rule=\"nonzero\" fill-opacity=\"1\" /><path clip-path=\"url(#clip700)\" d=\"Mnan nan Qnan nan nan nan Qnan nan nan nan Lnan nan Lnan nan Lnan nan Qnan nan nan nan Qnan nan nan nan Lnan nan Lnan nan Lnan nan Lnan nan Lnan nan Qnan nan nan nan Qnan nan nan nan Qnan nan nan nan Qnan nan nan nan Mnan nan Lnan nan Lnan nan Qnan nan nan nan Qnan nan nan nan Qnan nan nan nan Qnan nan nan nan Lnan nan Z\" fill=\"#000000\" fill-rule=\"nonzero\" fill-opacity=\"1\" /><path clip-path=\"url(#clip700)\" d=\"Mnan nan Lnan nan Lnan nan Qnan nan nan nan Qnan nan nan nan Qnan nan nan nan Qnan nan nan nan Lnan nan Qnan nan nan nan Qnan nan nan nan Qnan nan nan nan Qnan nan nan nan Qnan nan nan nan Qnan nan nan nan Qnan nan nan nan Qnan nan nan nan Mnan nan Qnan nan nan nan Qnan nan nan nan Qnan nan nan nan Qnan nan nan nan Lnan nan Z\" fill=\"#000000\" fill-rule=\"nonzero\" fill-opacity=\"1\" /><path clip-path=\"url(#clip700)\" d=\"Mnan nan Qnan nan nan nan Qnan nan nan nan Qnan nan nan nan Qnan nan nan nan Qnan nan nan nan Qnan nan nan nan Qnan nan nan nan Qnan nan nan nan Mnan nan Qnan nan nan nan Qnan nan nan nan Qnan nan nan nan Qnan nan nan nan Lnan nan Qnan nan nan nan Qnan nan nan nan Qnan nan nan nan Qnan nan nan nan Lnan nan Qnan nan nan nan Qnan nan nan nan Qnan nan nan nan Qnan nan nan nan Qnan nan nan nan Qnan nan nan nan Qnan nan nan nan Qnan nan nan nan Lnan nan Lnan nan Lnan nan Z\" fill=\"#000000\" fill-rule=\"nonzero\" fill-opacity=\"1\" /><path clip-path=\"url(#clip700)\" d=\"Mnan nan Qnan nan nan nan Qnan nan nan nan Qnan nan nan nan Qnan nan nan nan Lnan nan Lnan nan Lnan nan Lnan nan Lnan nan Qnan nan nan nan Qnan nan nan nan Qnan nan nan nan Qnan nan nan nan Lnan nan Z\" fill=\"#000000\" fill-rule=\"nonzero\" fill-opacity=\"1\" /><path clip-path=\"url(#clip700)\" d=\"Mnan nan Lnan nan Qnan nan nan nan Qnan nan nan nan Qnan nan nan nan Qnan nan nan nan Qnan nan nan nan Qnan nan nan nan Lnan nan Qnan nan nan nan Qnan nan nan nan Qnan nan nan nan Qnan nan nan nan Qnan nan nan nan Qnan nan nan nan Lnan nan Qnan nan nan nan Qnan nan nan nan Qnan nan nan nan Qnan nan nan nan Qnan nan nan nan Qnan nan nan nan Lnan nan Qnan nan nan nan Qnan nan nan nan Qnan nan nan nan Qnan nan nan nan Qnan nan nan nan Qnan nan nan nan Z\" fill=\"#000000\" fill-rule=\"nonzero\" fill-opacity=\"1\" /><path clip-path=\"url(#clip700)\" d=\"Mnan nan Lnan nan Qnan nan nan nan Qnan nan nan nan Qnan nan nan nan Qnan nan nan nan Qnan nan nan nan Qnan nan nan nan Lnan nan Qnan nan nan nan Qnan nan nan nan Qnan nan nan nan Qnan nan nan nan Qnan nan nan nan Qnan nan nan nan Lnan nan Qnan nan nan nan Qnan nan nan nan Qnan nan nan nan Qnan nan nan nan Qnan nan nan nan Qnan nan nan nan Lnan nan Qnan nan nan nan Qnan nan nan nan Qnan nan nan nan Qnan nan nan nan Qnan nan nan nan Qnan nan nan nan Z\" fill=\"#000000\" fill-rule=\"nonzero\" fill-opacity=\"1\" /><path clip-path=\"url(#clip700)\" d=\"Mnan nan Lnan nan Lnan nan Lnan nan Lnan nan Mnan nan Lnan nan Lnan nan Lnan nan Lnan nan Z\" fill=\"#000000\" fill-rule=\"nonzero\" fill-opacity=\"1\" /><path clip-path=\"url(#clip700)\" d=\"Mnan nan Qnan nan nan nan Qnan nan nan nan Qnan nan nan nan Qnan nan nan nan Qnan nan nan nan Qnan nan nan nan Qnan nan nan nan Qnan nan nan nan Mnan nan Qnan nan nan nan Qnan nan nan nan Qnan nan nan nan Qnan nan nan nan Qnan nan nan nan Qnan nan nan nan Qnan nan nan nan Qnan nan nan nan Z\" fill=\"#000000\" fill-rule=\"nonzero\" fill-opacity=\"1\" /><path clip-path=\"url(#clip700)\" d=\"Mnan nan Lnan nan Lnan nan Lnan nan Qnan nan nan nan Qnan nan nan nan Qnan nan nan nan Qnan nan nan nan Lnan nan Lnan nan Lnan nan Lnan nan Lnan nan Qnan nan nan nan Qnan nan nan nan Qnan nan nan nan Qnan nan nan nan Z\" fill=\"#000000\" fill-rule=\"nonzero\" fill-opacity=\"1\" /><path clip-path=\"url(#clip700)\" d=\"Mnan nan Lnan nan Lnan nan Lnan nan Lnan nan Z\" fill=\"#000000\" fill-rule=\"nonzero\" fill-opacity=\"1\" /><path clip-path=\"url(#clip700)\" d=\"Mnan nan Lnan nan Lnan nan Lnan nan Lnan nan Lnan nan Lnan nan Lnan nan Lnan nan Lnan nan Lnan nan Lnan nan Lnan nan Z\" fill=\"#000000\" fill-rule=\"nonzero\" fill-opacity=\"1\" /><path clip-path=\"url(#clip700)\" d=\"Mnan nan Lnan nan Lnan nan Lnan nan Qnan nan nan nan Qnan nan nan nan Qnan nan nan nan Qnan nan nan nan Lnan nan Lnan nan Lnan nan Lnan nan Lnan nan Qnan nan nan nan Qnan nan nan nan Qnan nan nan nan Qnan nan nan nan Mnan nan Lnan nan Z\" fill=\"#000000\" fill-rule=\"nonzero\" fill-opacity=\"1\" /><path clip-path=\"url(#clip700)\" d=\"Mnan nan Qnan nan nan nan Qnan nan nan nan Qnan nan nan nan Qnan nan nan nan Qnan nan nan nan Qnan nan nan nan Qnan nan nan nan Qnan nan nan nan Mnan nan Qnan nan nan nan Qnan nan nan nan Qnan nan nan nan Qnan nan nan nan Qnan nan nan nan Qnan nan nan nan Qnan nan nan nan Qnan nan nan nan Lnan nan Lnan nan Lnan nan Lnan nan Lnan nan Z\" fill=\"#000000\" fill-rule=\"nonzero\" fill-opacity=\"1\" /><path clip-path=\"url(#clip700)\" d=\"Mnan nan Lnan nan Lnan nan Qnan nan nan nan Qnan nan nan nan Qnan nan nan nan Qnan nan nan nan Lnan nan Qnan nan nan nan Qnan nan nan nan Qnan nan nan nan Qnan nan nan nan Qnan nan nan nan Qnan nan nan nan Qnan nan nan nan Qnan nan nan nan Mnan nan Qnan nan nan nan Qnan nan nan nan Qnan nan nan nan Qnan nan nan nan Lnan nan Z\" fill=\"#000000\" fill-rule=\"nonzero\" fill-opacity=\"1\" /><path clip-path=\"url(#clip700)\" d=\"Mnan nan Qnan nan nan nan Qnan nan nan nan Qnan nan nan nan Qnan nan nan nan Lnan nan Lnan nan Lnan nan Lnan nan Lnan nan Qnan nan nan nan Qnan nan nan nan Qnan nan nan nan Qnan nan nan nan Lnan nan Z\" fill=\"#000000\" fill-rule=\"nonzero\" fill-opacity=\"1\" /><path clip-path=\"url(#clip700)\" d=\"Mnan nan Lnan nan Lnan nan Lnan nan Lnan nan Lnan nan Lnan nan Z\" fill=\"#000000\" fill-rule=\"nonzero\" fill-opacity=\"1\" /><path clip-path=\"url(#clip700)\" d=\"Mnan nan Lnan nan Lnan nan Lnan nan Lnan nan Lnan nan Lnan nan Lnan nan Lnan nan Lnan nan Lnan nan Lnan nan Z\" fill=\"#000000\" fill-rule=\"nonzero\" fill-opacity=\"1\" /><path clip-path=\"url(#clip700)\" d=\"Mnan nan Lnan nan Lnan nan Lnan nan Lnan nan Z\" fill=\"#000000\" fill-rule=\"nonzero\" fill-opacity=\"1\" /><path clip-path=\"url(#clip700)\" d=\"Mnan nan Lnan nan Lnan nan Lnan nan Lnan nan Lnan nan Qnan nan nan nan Qnan nan nan nan Qnan nan nan nan Qnan nan nan nan Qnan nan nan nan Qnan nan nan nan Qnan nan nan nan Qnan nan nan nan Mnan nan Qnan nan nan nan Qnan nan nan nan Qnan nan nan nan Qnan nan nan nan Qnan nan nan nan Qnan nan nan nan Qnan nan nan nan Qnan nan nan nan Z\" fill=\"#000000\" fill-rule=\"nonzero\" fill-opacity=\"1\" /><path clip-path=\"url(#clip700)\" d=\"Mnan nan Lnan nan Lnan nan Lnan nan Lnan nan Mnan nan Lnan nan Lnan nan Lnan nan Lnan nan Z\" fill=\"#000000\" fill-rule=\"nonzero\" fill-opacity=\"1\" /><path clip-path=\"url(#clip700)\" d=\"Mnan nan Qnan nan nan nan Qnan nan nan nan Qnan nan nan nan Qnan nan nan nan Lnan nan Lnan nan Lnan nan Qnan nan nan nan Qnan nan nan nan Qnan nan nan nan Qnan nan nan nan Lnan nan Lnan nan Lnan nan Qnan nan nan nan Qnan nan nan nan Qnan nan nan nan Qnan nan nan nan Lnan nan Lnan nan Lnan nan Lnan nan Lnan nan Qnan nan nan nan Qnan nan nan nan Qnan nan nan nan Qnan nan nan nan Z\" fill=\"#000000\" fill-rule=\"nonzero\" fill-opacity=\"1\" /><path clip-path=\"url(#clip700)\" d=\"Mnan nan Lnan nan Lnan nan Lnan nan Lnan nan Lnan nan Lnan nan Lnan nan Lnan nan Lnan nan Lnan nan Lnan nan Z\" fill=\"#000000\" fill-rule=\"nonzero\" fill-opacity=\"1\" /><path clip-path=\"url(#clip700)\" d=\"Mnan nan Lnan nan Lnan nan Lnan nan Lnan nan Qnan nan nan nan Qnan nan nan nan Qnan nan nan nan Qnan nan nan nan Qnan nan nan nan Qnan nan nan nan Qnan nan nan nan Qnan nan nan nan Lnan nan Qnan nan nan nan Qnan nan nan nan Qnan nan nan nan Qnan nan nan nan Qnan nan nan nan Qnan nan nan nan Qnan nan nan nan Qnan nan nan nan Z\" fill=\"#000000\" fill-rule=\"nonzero\" fill-opacity=\"1\" /><path clip-path=\"url(#clip700)\" d=\"Mnan nan Qnan nan nan nan Qnan nan nan nan Qnan nan nan nan Qnan nan nan nan Qnan nan nan nan Qnan nan nan nan Qnan nan nan nan Qnan nan nan nan Mnan nan Qnan nan nan nan Qnan nan nan nan Qnan nan nan nan Qnan nan nan nan Qnan nan nan nan Qnan nan nan nan Qnan nan nan nan Qnan nan nan nan Qnan nan nan nan Qnan nan nan nan Qnan nan nan nan Qnan nan nan nan Qnan nan nan nan Qnan nan nan nan Qnan nan nan nan Qnan nan nan nan Mnan nan Qnan nan nan nan Qnan nan nan nan Qnan nan nan nan Qnan nan nan nan Qnan nan nan nan Qnan nan nan nan Qnan nan nan nan Qnan nan nan nan Z\" fill=\"#000000\" fill-rule=\"nonzero\" fill-opacity=\"1\" /><polyline clip-path=\"url(#clip702)\" style=\"stroke:#0000ff; stroke-linecap:round; stroke-linejoin:round; stroke-width:12; stroke-opacity:1; fill:none\" points=\"2352.76,346.304 4618.52,-301144 6884.28,-40627 9150.05,-10364 11415.8,-1450.98 13681.6,1301.1 15947.3,1484.43 18213.1,-419.665 20478.9,1485.13 22744.6,1486.28 25010.4,1486.41 27276.2,1486.45 29541.9,1486.45 31807.7,1486.45 34073.4,1486.45 36339.2,1486.45 38605,1486.45 40870.7,1486.45 43136.5,1486.45 45402.3,1486.45 \"/>\n",
       "<polyline clip-path=\"url(#clip702)\" style=\"stroke:#ff0000; stroke-linecap:round; stroke-linejoin:round; stroke-width:12; stroke-opacity:1; fill:none\" points=\"2352.76,346.304 4618.52,1348.68 6884.28,1295.07 9150.05,1447.8 11415.8,1482.5 13681.6,1486.42 15947.3,1485.17 18213.1,1486.3 20478.9,1486.45 22744.6,1486.45 25010.4,1486.43 27276.2,1486.45 29541.9,1486.45 31807.7,1486.45 34073.4,1486.45 36339.2,1486.45 38605,1486.45 40870.7,1486.45 43136.5,1486.45 45402.3,1486.45 47668,1486.45 49933.8,1486.45 52199.6,1486.45 54465.3,1486.45 56731.1,1486.45 58996.9,1486.45 61262.6,1486.45 63528.4,1486.45 65794.1,1486.45 68059.9,1486.45 70325.7,1486.45 72591.4,1486.45 74857.2,1486.45 77123,1486.45 79388.7,1486.45 81654.5,1486.45 83920.3,1486.45 86186,1486.45 88451.8,1486.45 90717.5,1486.45 92983.3,1486.45 95249.1,1486.45 97514.8,1486.45 99780.6,1486.45 102046,1486.45 104312,1486.45 106578,1486.45 108844,1486.45 111109,1486.45 113375,1486.45 115641,1486.45 117907,1486.45 120172,1486.45 122438,1486.45 124704,1486.45 126970,1486.45 129236,1486.45 131501,1486.45 133767,1486.45 136033,1486.45 138299,1486.45 140564,1486.45 142830,1486.45 145096,1486.45 147362,1486.45 149627,1486.45 151893,1486.45 154159,1486.45 156425,1486.45 158690,1486.45 160956,1486.45 163222,1486.45 165488,1486.45 167754,1486.45 170019,1486.45 172285,1486.45 174551,1486.45 176817,1486.45 179082,1486.45 181348,1486.45 183614,1486.45 185880,1486.45 188145,1486.45 190411,1486.45 192677,1486.45 194943,1486.45 197208,1486.45 199474,1486.45 201740,1486.45 204006,1486.45 206271,1486.45 208537,1486.45 210803,1486.45 213069,1486.45 215335,1486.45 217600,1486.45 219866,1486.45 222132,1486.45 224398,1486.45 226663,1486.45 \"/>\n",
       "<polyline clip-path=\"url(#clip702)\" style=\"stroke:#ff0000; stroke-linecap:round; stroke-linejoin:round; stroke-width:4; stroke-opacity:1; fill:none\" points=\"2352.76,804.96 4618.52,1226.14 6884.28,1374.21 9150.05,1457.1 11415.8,1476.8 13681.6,1481.77 15947.3,1482.7 18213.1,1486.35 20478.9,1486.42 22744.6,1486.42 25010.4,1486.44 27276.2,1486.45 29541.9,1486.45 31807.7,1486.45 34073.4,1486.45 36339.2,1486.45 38605,1486.45 40870.7,1486.45 43136.5,1486.45 45402.3,1486.45 47668,1486.45 49933.8,1486.45 52199.6,1486.45 54465.3,1486.45 56731.1,1486.45 58996.9,1486.45 61262.6,1486.45 63528.4,1486.45 65794.1,1486.45 68059.9,1486.45 70325.7,1486.45 72591.4,1486.45 74857.2,1486.45 77123,1486.45 79388.7,1486.45 81654.5,1486.45 83920.3,1486.45 86186,1486.45 88451.8,1486.45 90717.5,1486.45 92983.3,1486.45 95249.1,1486.45 97514.8,1486.45 99780.6,1486.45 102046,1486.45 104312,1486.45 106578,1486.45 108844,1486.45 111109,1486.45 113375,1486.45 115641,1486.45 117907,1486.45 120172,1486.45 122438,1486.45 124704,1486.45 126970,1486.45 129236,1486.45 131501,1486.45 133767,1486.45 136033,1486.45 138299,1486.45 140564,1486.45 142830,1486.45 145096,1486.45 147362,1486.45 149627,1486.45 151893,1486.45 154159,1486.45 156425,1486.45 158690,1486.45 160956,1486.45 163222,1486.45 165488,1486.45 167754,1486.45 170019,1486.45 172285,1486.45 174551,1486.45 176817,1486.45 179082,1486.45 181348,1486.45 183614,1486.45 185880,1486.45 188145,1486.45 190411,1486.45 192677,1486.45 194943,1486.45 197208,1486.45 199474,1486.45 201740,1486.45 204006,1486.45 206271,1486.45 208537,1486.45 210803,1486.45 213069,1486.45 215335,1486.45 217600,1486.45 219866,1486.45 222132,1486.45 224398,1486.45 226663,1486.45 \"/>\n",
       "<path clip-path=\"url(#clip700)\" d=\"M1547.58 428.105 L2277.23 428.105 L2277.23 168.905 L1547.58 168.905  Z\" fill=\"#ffffff\" fill-rule=\"evenodd\" fill-opacity=\"1\"/>\n",
       "<polyline clip-path=\"url(#clip700)\" style=\"stroke:#000000; stroke-linecap:round; stroke-linejoin:round; stroke-width:4; stroke-opacity:1; fill:none\" points=\"1547.58,428.105 2277.23,428.105 2277.23,168.905 1547.58,168.905 1547.58,428.105 \"/>\n",
       "<polyline clip-path=\"url(#clip700)\" style=\"stroke:#0000ff; stroke-linecap:round; stroke-linejoin:round; stroke-width:12; stroke-opacity:1; fill:none\" points=\"1572.75,220.745 1723.8,220.745 \"/>\n",
       "<path clip-path=\"url(#clip700)\" d=\"Mnan nan Lnan nan Lnan nan Qnan nan nan nan Qnan nan nan nan Qnan nan nan nan Qnan nan nan nan Lnan nan Mnan nan Lnan nan Lnan nan Qnan nan nan nan Qnan nan nan nan Qnan nan nan nan Qnan nan nan nan Lnan nan Mnan nan Lnan nan Qnan nan nan nan Qnan nan nan nan Qnan nan nan nan Qnan nan nan nan Qnan nan nan nan Qnan nan nan nan Qnan nan nan nan Qnan nan nan nan Lnan nan Lnan nan Z\" fill=\"#000000\" fill-rule=\"nonzero\" fill-opacity=\"1\" /><path clip-path=\"url(#clip700)\" d=\"Mnan nan Lnan nan Lnan nan Lnan nan Lnan nan Lnan nan Lnan nan Lnan nan Lnan nan Lnan nan Lnan nan Z\" fill=\"#000000\" fill-rule=\"nonzero\" fill-opacity=\"1\" /><path clip-path=\"url(#clip700)\" d=\"Mnan nan Lnan nan Lnan nan Lnan nan Lnan nan Lnan nan Qnan nan nan nan Qnan nan nan nan Qnan nan nan nan Qnan nan nan nan Qnan nan nan nan Qnan nan nan nan Qnan nan nan nan Qnan nan nan nan Lnan nan Qnan nan nan nan Qnan nan nan nan Qnan nan nan nan Qnan nan nan nan Qnan nan nan nan Qnan nan nan nan Qnan nan nan nan Qnan nan nan nan Z\" fill=\"#000000\" fill-rule=\"nonzero\" fill-opacity=\"1\" /><path clip-path=\"url(#clip700)\" d=\"Mnan nan Lnan nan Qnan nan nan nan Qnan nan nan nan Qnan nan nan nan Qnan nan nan nan Qnan nan nan nan Qnan nan nan nan Lnan nan Qnan nan nan nan Qnan nan nan nan Qnan nan nan nan Qnan nan nan nan Qnan nan nan nan Qnan nan nan nan Lnan nan Qnan nan nan nan Qnan nan nan nan Qnan nan nan nan Qnan nan nan nan Qnan nan nan nan Qnan nan nan nan Lnan nan Qnan nan nan nan Qnan nan nan nan Qnan nan nan nan Qnan nan nan nan Qnan nan nan nan Qnan nan nan nan Z\" fill=\"#000000\" fill-rule=\"nonzero\" fill-opacity=\"1\" /><path clip-path=\"url(#clip700)\" d=\"Mnan nan Lnan nan Qnan nan nan nan Qnan nan nan nan Qnan nan nan nan Qnan nan nan nan Qnan nan nan nan Qnan nan nan nan Lnan nan Qnan nan nan nan Qnan nan nan nan Qnan nan nan nan Qnan nan nan nan Qnan nan nan nan Qnan nan nan nan Lnan nan Qnan nan nan nan Qnan nan nan nan Qnan nan nan nan Qnan nan nan nan Qnan nan nan nan Qnan nan nan nan Lnan nan Qnan nan nan nan Qnan nan nan nan Qnan nan nan nan Qnan nan nan nan Qnan nan nan nan Qnan nan nan nan Z\" fill=\"#000000\" fill-rule=\"nonzero\" fill-opacity=\"1\" /><path clip-path=\"url(#clip700)\" d=\"Mnan nan Lnan nan Qnan nan nan nan Qnan nan nan nan Qnan nan nan nan Qnan nan nan nan Qnan nan nan nan Qnan nan nan nan Qnan nan nan nan Qnan nan nan nan Lnan nan Qnan nan nan nan Qnan nan nan nan Qnan nan nan nan Qnan nan nan nan Qnan nan nan nan Qnan nan nan nan Qnan nan nan nan Qnan nan nan nan Z\" fill=\"#000000\" fill-rule=\"nonzero\" fill-opacity=\"1\" /><path clip-path=\"url(#clip700)\" d=\"Mnan nan Qnan nan nan nan Qnan nan nan nan Qnan nan nan nan Qnan nan nan nan Qnan nan nan nan Qnan nan nan nan Lnan nan Lnan nan Mnan nan Lnan nan Lnan nan Lnan nan Qnan nan nan nan Qnan nan nan nan Qnan nan nan nan Qnan nan nan nan Qnan nan nan nan Qnan nan nan nan Lnan nan Lnan nan Qnan nan nan nan Qnan nan nan nan Qnan nan nan nan Qnan nan nan nan Lnan nan Qnan nan nan nan Qnan nan nan nan Qnan nan nan nan Qnan nan nan nan Z\" fill=\"#000000\" fill-rule=\"nonzero\" fill-opacity=\"1\" /><path clip-path=\"url(#clip700)\" d=\"Mnan nan Lnan nan Lnan nan Lnan nan Lnan nan Z\" fill=\"#000000\" fill-rule=\"nonzero\" fill-opacity=\"1\" /><path clip-path=\"url(#clip700)\" d=\"Mnan nan Lnan nan Lnan nan Qnan nan nan nan Qnan nan nan nan Qnan nan nan nan Qnan nan nan nan Lnan nan Qnan nan nan nan Qnan nan nan nan Qnan nan nan nan Qnan nan nan nan Qnan nan nan nan Qnan nan nan nan Qnan nan nan nan Qnan nan nan nan Mnan nan Qnan nan nan nan Qnan nan nan nan Qnan nan nan nan Qnan nan nan nan Lnan nan Z\" fill=\"#000000\" fill-rule=\"nonzero\" fill-opacity=\"1\" /><path clip-path=\"url(#clip700)\" d=\"Mnan nan Lnan nan Lnan nan Lnan nan Lnan nan Lnan nan Qnan nan nan nan Qnan nan nan nan Qnan nan nan nan Qnan nan nan nan Qnan nan nan nan Qnan nan nan nan Qnan nan nan nan Qnan nan nan nan Mnan nan Qnan nan nan nan Qnan nan nan nan Qnan nan nan nan Qnan nan nan nan Qnan nan nan nan Qnan nan nan nan Qnan nan nan nan Qnan nan nan nan Z\" fill=\"#000000\" fill-rule=\"nonzero\" fill-opacity=\"1\" /><path clip-path=\"url(#clip700)\" d=\"Mnan nan Lnan nan Lnan nan Qnan nan nan nan Qnan nan nan nan Qnan nan nan nan Qnan nan nan nan Lnan nan Qnan nan nan nan Qnan nan nan nan Qnan nan nan nan Qnan nan nan nan Qnan nan nan nan Qnan nan nan nan Qnan nan nan nan Qnan nan nan nan Mnan nan Qnan nan nan nan Qnan nan nan nan Qnan nan nan nan Qnan nan nan nan Lnan nan Z\" fill=\"#000000\" fill-rule=\"nonzero\" fill-opacity=\"1\" /><path clip-path=\"url(#clip700)\" d=\"Mnan nan Qnan nan nan nan Qnan nan nan nan Qnan nan nan nan Qnan nan nan nan Lnan nan Lnan nan Lnan nan Lnan nan Lnan nan Qnan nan nan nan Qnan nan nan nan Qnan nan nan nan Qnan nan nan nan Lnan nan Z\" fill=\"#000000\" fill-rule=\"nonzero\" fill-opacity=\"1\" /><path clip-path=\"url(#clip700)\" d=\"Mnan nan Qnan nan nan nan Qnan nan nan nan Qnan nan nan nan Qnan nan nan nan Lnan nan Lnan nan Lnan nan Lnan nan Lnan nan Qnan nan nan nan Qnan nan nan nan Qnan nan nan nan Qnan nan nan nan Lnan nan Z\" fill=\"#000000\" fill-rule=\"nonzero\" fill-opacity=\"1\" /><path clip-path=\"url(#clip700)\" d=\"Mnan nan Qnan nan nan nan Qnan nan nan nan Qnan nan nan nan Qnan nan nan nan Qnan nan nan nan Qnan nan nan nan Qnan nan nan nan Qnan nan nan nan Mnan nan Qnan nan nan nan Qnan nan nan nan Qnan nan nan nan Qnan nan nan nan Qnan nan nan nan Qnan nan nan nan Qnan nan nan nan Qnan nan nan nan Z\" fill=\"#000000\" fill-rule=\"nonzero\" fill-opacity=\"1\" /><path clip-path=\"url(#clip700)\" d=\"Mnan nan Qnan nan nan nan Qnan nan nan nan Qnan nan nan nan Qnan nan nan nan Lnan nan Lnan nan Lnan nan Lnan nan Lnan nan Qnan nan nan nan Qnan nan nan nan Qnan nan nan nan Qnan nan nan nan Lnan nan Z\" fill=\"#000000\" fill-rule=\"nonzero\" fill-opacity=\"1\" /><polyline clip-path=\"url(#clip700)\" style=\"stroke:#ff0000; stroke-linecap:round; stroke-linejoin:round; stroke-width:12; stroke-opacity:1; fill:none\" points=\"1572.75,272.585 1723.8,272.585 \"/>\n",
       "<path clip-path=\"url(#clip700)\" d=\"Mnan nan Lnan nan Qnan nan nan nan Qnan nan nan nan Qnan nan nan nan Qnan nan nan nan Qnan nan nan nan Qnan nan nan nan Lnan nan Qnan nan nan nan Qnan nan nan nan Qnan nan nan nan Qnan nan nan nan Qnan nan nan nan Qnan nan nan nan Lnan nan Qnan nan nan nan Qnan nan nan nan Qnan nan nan nan Qnan nan nan nan Qnan nan nan nan Qnan nan nan nan Lnan nan Qnan nan nan nan Qnan nan nan nan Qnan nan nan nan Qnan nan nan nan Qnan nan nan nan Qnan nan nan nan Z\" fill=\"#000000\" fill-rule=\"nonzero\" fill-opacity=\"1\" /><path clip-path=\"url(#clip700)\" d=\"Mnan nan Lnan nan Lnan nan Lnan nan Lnan nan Lnan nan Qnan nan nan nan Qnan nan nan nan Qnan nan nan nan Qnan nan nan nan Qnan nan nan nan Qnan nan nan nan Qnan nan nan nan Qnan nan nan nan Mnan nan Qnan nan nan nan Qnan nan nan nan Qnan nan nan nan Qnan nan nan nan Qnan nan nan nan Qnan nan nan nan Qnan nan nan nan Qnan nan nan nan Z\" fill=\"#000000\" fill-rule=\"nonzero\" fill-opacity=\"1\" /><path clip-path=\"url(#clip700)\" d=\"Mnan nan Qnan nan nan nan Qnan nan nan nan Qnan nan nan nan Qnan nan nan nan Qnan nan nan nan Qnan nan nan nan Qnan nan nan nan Qnan nan nan nan Mnan nan Qnan nan nan nan Qnan nan nan nan Qnan nan nan nan Qnan nan nan nan Lnan nan Qnan nan nan nan Qnan nan nan nan Qnan nan nan nan Qnan nan nan nan Lnan nan Qnan nan nan nan Qnan nan nan nan Qnan nan nan nan Qnan nan nan nan Qnan nan nan nan Qnan nan nan nan Qnan nan nan nan Qnan nan nan nan Lnan nan Lnan nan Lnan nan Z\" fill=\"#000000\" fill-rule=\"nonzero\" fill-opacity=\"1\" /><path clip-path=\"url(#clip700)\" d=\"Mnan nan Qnan nan nan nan Qnan nan nan nan Qnan nan nan nan Qnan nan nan nan Lnan nan Lnan nan Lnan nan Qnan nan nan nan Qnan nan nan nan Qnan nan nan nan Qnan nan nan nan Lnan nan Lnan nan Lnan nan Qnan nan nan nan Qnan nan nan nan Qnan nan nan nan Qnan nan nan nan Lnan nan Lnan nan Lnan nan Lnan nan Lnan nan Qnan nan nan nan Qnan nan nan nan Qnan nan nan nan Qnan nan nan nan Z\" fill=\"#000000\" fill-rule=\"nonzero\" fill-opacity=\"1\" /><path clip-path=\"url(#clip700)\" d=\"Mnan nan Lnan nan Lnan nan Lnan nan Lnan nan Z\" fill=\"#000000\" fill-rule=\"nonzero\" fill-opacity=\"1\" /><path clip-path=\"url(#clip700)\" d=\"Mnan nan Lnan nan Lnan nan Lnan nan Lnan nan Lnan nan Lnan nan Lnan nan Lnan nan Lnan nan Lnan nan Lnan nan Z\" fill=\"#000000\" fill-rule=\"nonzero\" fill-opacity=\"1\" /><path clip-path=\"url(#clip700)\" d=\"Mnan nan Qnan nan nan nan Qnan nan nan nan Qnan nan nan nan Qnan nan nan nan Qnan nan nan nan Qnan nan nan nan Qnan nan nan nan Qnan nan nan nan Mnan nan Qnan nan nan nan Qnan nan nan nan Qnan nan nan nan Qnan nan nan nan Qnan nan nan nan Qnan nan nan nan Qnan nan nan nan Qnan nan nan nan Z\" fill=\"#000000\" fill-rule=\"nonzero\" fill-opacity=\"1\" /><path clip-path=\"url(#clip700)\" d=\"Mnan nan Lnan nan Qnan nan nan nan Qnan nan nan nan Qnan nan nan nan Qnan nan nan nan Qnan nan nan nan Qnan nan nan nan Lnan nan Qnan nan nan nan Qnan nan nan nan Qnan nan nan nan Qnan nan nan nan Qnan nan nan nan Qnan nan nan nan Lnan nan Qnan nan nan nan Qnan nan nan nan Qnan nan nan nan Qnan nan nan nan Qnan nan nan nan Qnan nan nan nan Lnan nan Qnan nan nan nan Qnan nan nan nan Qnan nan nan nan Qnan nan nan nan Qnan nan nan nan Qnan nan nan nan Z\" fill=\"#000000\" fill-rule=\"nonzero\" fill-opacity=\"1\" /><path clip-path=\"url(#clip700)\" d=\"Mnan nan Lnan nan Qnan nan nan nan Qnan nan nan nan Qnan nan nan nan Qnan nan nan nan Qnan nan nan nan Qnan nan nan nan Qnan nan nan nan Qnan nan nan nan Lnan nan Qnan nan nan nan Qnan nan nan nan Qnan nan nan nan Qnan nan nan nan Qnan nan nan nan Qnan nan nan nan Qnan nan nan nan Qnan nan nan nan Z\" fill=\"#000000\" fill-rule=\"nonzero\" fill-opacity=\"1\" /><path clip-path=\"url(#clip700)\" d=\"Mnan nan Qnan nan nan nan Qnan nan nan nan Qnan nan nan nan Qnan nan nan nan Qnan nan nan nan Qnan nan nan nan Lnan nan Lnan nan Mnan nan Lnan nan Lnan nan Lnan nan Qnan nan nan nan Qnan nan nan nan Qnan nan nan nan Qnan nan nan nan Qnan nan nan nan Qnan nan nan nan Lnan nan Lnan nan Qnan nan nan nan Qnan nan nan nan Qnan nan nan nan Qnan nan nan nan Lnan nan Qnan nan nan nan Qnan nan nan nan Qnan nan nan nan Qnan nan nan nan Z\" fill=\"#000000\" fill-rule=\"nonzero\" fill-opacity=\"1\" /><path clip-path=\"url(#clip700)\" d=\"Mnan nan Lnan nan Lnan nan Lnan nan Lnan nan Z\" fill=\"#000000\" fill-rule=\"nonzero\" fill-opacity=\"1\" /><path clip-path=\"url(#clip700)\" d=\"Mnan nan Lnan nan Lnan nan Qnan nan nan nan Qnan nan nan nan Qnan nan nan nan Qnan nan nan nan Lnan nan Qnan nan nan nan Qnan nan nan nan Qnan nan nan nan Qnan nan nan nan Qnan nan nan nan Qnan nan nan nan Qnan nan nan nan Qnan nan nan nan Mnan nan Qnan nan nan nan Qnan nan nan nan Qnan nan nan nan Qnan nan nan nan Lnan nan Z\" fill=\"#000000\" fill-rule=\"nonzero\" fill-opacity=\"1\" /><path clip-path=\"url(#clip700)\" d=\"Mnan nan Lnan nan Lnan nan Lnan nan Lnan nan Lnan nan Qnan nan nan nan Qnan nan nan nan Qnan nan nan nan Qnan nan nan nan Qnan nan nan nan Qnan nan nan nan Qnan nan nan nan Qnan nan nan nan Mnan nan Qnan nan nan nan Qnan nan nan nan Qnan nan nan nan Qnan nan nan nan Qnan nan nan nan Qnan nan nan nan Qnan nan nan nan Qnan nan nan nan Z\" fill=\"#000000\" fill-rule=\"nonzero\" fill-opacity=\"1\" /><path clip-path=\"url(#clip700)\" d=\"Mnan nan Lnan nan Lnan nan Qnan nan nan nan Qnan nan nan nan Qnan nan nan nan Qnan nan nan nan Lnan nan Qnan nan nan nan Qnan nan nan nan Qnan nan nan nan Qnan nan nan nan Qnan nan nan nan Qnan nan nan nan Qnan nan nan nan Qnan nan nan nan Mnan nan Qnan nan nan nan Qnan nan nan nan Qnan nan nan nan Qnan nan nan nan Lnan nan Z\" fill=\"#000000\" fill-rule=\"nonzero\" fill-opacity=\"1\" /><path clip-path=\"url(#clip700)\" d=\"Mnan nan Qnan nan nan nan Qnan nan nan nan Qnan nan nan nan Qnan nan nan nan Lnan nan Lnan nan Lnan nan Lnan nan Lnan nan Qnan nan nan nan Qnan nan nan nan Qnan nan nan nan Qnan nan nan nan Lnan nan Z\" fill=\"#000000\" fill-rule=\"nonzero\" fill-opacity=\"1\" /><path clip-path=\"url(#clip700)\" d=\"Mnan nan Qnan nan nan nan Qnan nan nan nan Qnan nan nan nan Qnan nan nan nan Lnan nan Lnan nan Lnan nan Lnan nan Lnan nan Qnan nan nan nan Qnan nan nan nan Qnan nan nan nan Qnan nan nan nan Lnan nan Z\" fill=\"#000000\" fill-rule=\"nonzero\" fill-opacity=\"1\" /><path clip-path=\"url(#clip700)\" d=\"Mnan nan Qnan nan nan nan Qnan nan nan nan Qnan nan nan nan Qnan nan nan nan Qnan nan nan nan Qnan nan nan nan Qnan nan nan nan Qnan nan nan nan Mnan nan Qnan nan nan nan Qnan nan nan nan Qnan nan nan nan Qnan nan nan nan Qnan nan nan nan Qnan nan nan nan Qnan nan nan nan Qnan nan nan nan Z\" fill=\"#000000\" fill-rule=\"nonzero\" fill-opacity=\"1\" /><path clip-path=\"url(#clip700)\" d=\"Mnan nan Qnan nan nan nan Qnan nan nan nan Qnan nan nan nan Qnan nan nan nan Lnan nan Lnan nan Lnan nan Lnan nan Lnan nan Qnan nan nan nan Qnan nan nan nan Qnan nan nan nan Qnan nan nan nan Lnan nan Z\" fill=\"#000000\" fill-rule=\"nonzero\" fill-opacity=\"1\" /><polyline clip-path=\"url(#clip700)\" style=\"stroke:#0000ff; stroke-linecap:round; stroke-linejoin:round; stroke-width:4; stroke-opacity:1; fill:none\" points=\"1572.75,324.425 1723.8,324.425 \"/>\n",
       "<path clip-path=\"url(#clip700)\" d=\"Mnan nan Lnan nan Lnan nan Qnan nan nan nan Qnan nan nan nan Qnan nan nan nan Qnan nan nan nan Lnan nan Mnan nan Lnan nan Lnan nan Qnan nan nan nan Qnan nan nan nan Qnan nan nan nan Qnan nan nan nan Lnan nan Mnan nan Lnan nan Qnan nan nan nan Qnan nan nan nan Qnan nan nan nan Qnan nan nan nan Qnan nan nan nan Qnan nan nan nan Qnan nan nan nan Qnan nan nan nan Lnan nan Lnan nan Z\" fill=\"#000000\" fill-rule=\"nonzero\" fill-opacity=\"1\" /><path clip-path=\"url(#clip700)\" d=\"Mnan nan Lnan nan Lnan nan Lnan nan Lnan nan Lnan nan Lnan nan Lnan nan Lnan nan Lnan nan Lnan nan Z\" fill=\"#000000\" fill-rule=\"nonzero\" fill-opacity=\"1\" /><path clip-path=\"url(#clip700)\" d=\"Mnan nan Lnan nan Lnan nan Lnan nan Lnan nan Lnan nan Qnan nan nan nan Qnan nan nan nan Qnan nan nan nan Qnan nan nan nan Qnan nan nan nan Qnan nan nan nan Qnan nan nan nan Qnan nan nan nan Lnan nan Qnan nan nan nan Qnan nan nan nan Qnan nan nan nan Qnan nan nan nan Qnan nan nan nan Qnan nan nan nan Qnan nan nan nan Qnan nan nan nan Z\" fill=\"#000000\" fill-rule=\"nonzero\" fill-opacity=\"1\" /><path clip-path=\"url(#clip700)\" d=\"Mnan nan Lnan nan Qnan nan nan nan Qnan nan nan nan Qnan nan nan nan Qnan nan nan nan Qnan nan nan nan Qnan nan nan nan Lnan nan Qnan nan nan nan Qnan nan nan nan Qnan nan nan nan Qnan nan nan nan Qnan nan nan nan Qnan nan nan nan Lnan nan Qnan nan nan nan Qnan nan nan nan Qnan nan nan nan Qnan nan nan nan Qnan nan nan nan Qnan nan nan nan Lnan nan Qnan nan nan nan Qnan nan nan nan Qnan nan nan nan Qnan nan nan nan Qnan nan nan nan Qnan nan nan nan Z\" fill=\"#000000\" fill-rule=\"nonzero\" fill-opacity=\"1\" /><path clip-path=\"url(#clip700)\" d=\"Mnan nan Qnan nan nan nan Qnan nan nan nan Qnan nan nan nan Qnan nan nan nan Qnan nan nan nan Qnan nan nan nan Qnan nan nan nan Qnan nan nan nan Mnan nan Qnan nan nan nan Qnan nan nan nan Qnan nan nan nan Qnan nan nan nan Lnan nan Qnan nan nan nan Qnan nan nan nan Qnan nan nan nan Qnan nan nan nan Lnan nan Qnan nan nan nan Qnan nan nan nan Qnan nan nan nan Qnan nan nan nan Qnan nan nan nan Qnan nan nan nan Qnan nan nan nan Qnan nan nan nan Lnan nan Lnan nan Lnan nan Z\" fill=\"#000000\" fill-rule=\"nonzero\" fill-opacity=\"1\" /><path clip-path=\"url(#clip700)\" d=\"Mnan nan Lnan nan Lnan nan Lnan nan Qnan nan nan nan Qnan nan nan nan Qnan nan nan nan Qnan nan nan nan Lnan nan Lnan nan Lnan nan Lnan nan Lnan nan Qnan nan nan nan Qnan nan nan nan Qnan nan nan nan Qnan nan nan nan Mnan nan Lnan nan Z\" fill=\"#000000\" fill-rule=\"nonzero\" fill-opacity=\"1\" /><path clip-path=\"url(#clip700)\" d=\"Mnan nan Qnan nan nan nan Qnan nan nan nan Qnan nan nan nan Qnan nan nan nan Qnan nan nan nan Qnan nan nan nan Lnan nan Lnan nan Mnan nan Lnan nan Lnan nan Lnan nan Qnan nan nan nan Qnan nan nan nan Qnan nan nan nan Qnan nan nan nan Qnan nan nan nan Qnan nan nan nan Lnan nan Lnan nan Qnan nan nan nan Qnan nan nan nan Qnan nan nan nan Qnan nan nan nan Lnan nan Qnan nan nan nan Qnan nan nan nan Qnan nan nan nan Qnan nan nan nan Z\" fill=\"#000000\" fill-rule=\"nonzero\" fill-opacity=\"1\" /><path clip-path=\"url(#clip700)\" d=\"Mnan nan Qnan nan nan nan Qnan nan nan nan Qnan nan nan nan Qnan nan nan nan Lnan nan Lnan nan Lnan nan Lnan nan Lnan nan Qnan nan nan nan Qnan nan nan nan Qnan nan nan nan Qnan nan nan nan Lnan nan Z\" fill=\"#000000\" fill-rule=\"nonzero\" fill-opacity=\"1\" /><path clip-path=\"url(#clip700)\" d=\"Mnan nan Qnan nan nan nan Qnan nan nan nan Qnan nan nan nan Qnan nan nan nan Qnan nan nan nan Qnan nan nan nan Lnan nan Lnan nan Mnan nan Lnan nan Lnan nan Lnan nan Qnan nan nan nan Qnan nan nan nan Qnan nan nan nan Qnan nan nan nan Qnan nan nan nan Qnan nan nan nan Lnan nan Lnan nan Qnan nan nan nan Qnan nan nan nan Qnan nan nan nan Qnan nan nan nan Lnan nan Qnan nan nan nan Qnan nan nan nan Qnan nan nan nan Qnan nan nan nan Z\" fill=\"#000000\" fill-rule=\"nonzero\" fill-opacity=\"1\" /><path clip-path=\"url(#clip700)\" d=\"Mnan nan Lnan nan Lnan nan Lnan nan Qnan nan nan nan Qnan nan nan nan Qnan nan nan nan Qnan nan nan nan Lnan nan Lnan nan Lnan nan Lnan nan Lnan nan Qnan nan nan nan Qnan nan nan nan Qnan nan nan nan Qnan nan nan nan Z\" fill=\"#000000\" fill-rule=\"nonzero\" fill-opacity=\"1\" /><path clip-path=\"url(#clip700)\" d=\"Mnan nan Lnan nan Lnan nan Lnan nan Lnan nan Lnan nan Qnan nan nan nan Qnan nan nan nan Lnan nan Lnan nan Lnan nan Qnan nan nan nan Qnan nan nan nan Lnan nan Lnan nan Lnan nan Lnan nan Lnan nan Lnan nan Z\" fill=\"#000000\" fill-rule=\"nonzero\" fill-opacity=\"1\" /><path clip-path=\"url(#clip700)\" d=\"Mnan nan Lnan nan Lnan nan Qnan nan nan nan Qnan nan nan nan Qnan nan nan nan Qnan nan nan nan Lnan nan Qnan nan nan nan Qnan nan nan nan Qnan nan nan nan Qnan nan nan nan Qnan nan nan nan Qnan nan nan nan Qnan nan nan nan Qnan nan nan nan Mnan nan Qnan nan nan nan Qnan nan nan nan Qnan nan nan nan Qnan nan nan nan Lnan nan Z\" fill=\"#000000\" fill-rule=\"nonzero\" fill-opacity=\"1\" /><path clip-path=\"url(#clip700)\" d=\"Mnan nan Lnan nan Lnan nan Qnan nan nan nan Qnan nan nan nan Qnan nan nan nan Qnan nan nan nan Lnan nan Qnan nan nan nan Qnan nan nan nan Qnan nan nan nan Qnan nan nan nan Qnan nan nan nan Qnan nan nan nan Qnan nan nan nan Qnan nan nan nan Mnan nan Qnan nan nan nan Qnan nan nan nan Qnan nan nan nan Qnan nan nan nan Lnan nan Z\" fill=\"#000000\" fill-rule=\"nonzero\" fill-opacity=\"1\" /><polyline clip-path=\"url(#clip700)\" style=\"stroke:#ff0000; stroke-linecap:round; stroke-linejoin:round; stroke-width:4; stroke-opacity:1; fill:none\" points=\"1572.75,376.265 1723.8,376.265 \"/>\n",
       "<path clip-path=\"url(#clip700)\" d=\"Mnan nan Lnan nan Qnan nan nan nan Qnan nan nan nan Qnan nan nan nan Qnan nan nan nan Qnan nan nan nan Qnan nan nan nan Lnan nan Qnan nan nan nan Qnan nan nan nan Qnan nan nan nan Qnan nan nan nan Qnan nan nan nan Qnan nan nan nan Lnan nan Qnan nan nan nan Qnan nan nan nan Qnan nan nan nan Qnan nan nan nan Qnan nan nan nan Qnan nan nan nan Lnan nan Qnan nan nan nan Qnan nan nan nan Qnan nan nan nan Qnan nan nan nan Qnan nan nan nan Qnan nan nan nan Z\" fill=\"#000000\" fill-rule=\"nonzero\" fill-opacity=\"1\" /><path clip-path=\"url(#clip700)\" d=\"Mnan nan Lnan nan Lnan nan Lnan nan Lnan nan Lnan nan Qnan nan nan nan Qnan nan nan nan Qnan nan nan nan Qnan nan nan nan Qnan nan nan nan Qnan nan nan nan Qnan nan nan nan Qnan nan nan nan Mnan nan Qnan nan nan nan Qnan nan nan nan Qnan nan nan nan Qnan nan nan nan Qnan nan nan nan Qnan nan nan nan Qnan nan nan nan Qnan nan nan nan Z\" fill=\"#000000\" fill-rule=\"nonzero\" fill-opacity=\"1\" /><path clip-path=\"url(#clip700)\" d=\"Mnan nan Qnan nan nan nan Qnan nan nan nan Qnan nan nan nan Qnan nan nan nan Qnan nan nan nan Qnan nan nan nan Qnan nan nan nan Qnan nan nan nan Mnan nan Qnan nan nan nan Qnan nan nan nan Qnan nan nan nan Qnan nan nan nan Lnan nan Qnan nan nan nan Qnan nan nan nan Qnan nan nan nan Qnan nan nan nan Lnan nan Qnan nan nan nan Qnan nan nan nan Qnan nan nan nan Qnan nan nan nan Qnan nan nan nan Qnan nan nan nan Qnan nan nan nan Qnan nan nan nan Lnan nan Lnan nan Lnan nan Z\" fill=\"#000000\" fill-rule=\"nonzero\" fill-opacity=\"1\" /><path clip-path=\"url(#clip700)\" d=\"Mnan nan Qnan nan nan nan Qnan nan nan nan Qnan nan nan nan Qnan nan nan nan Lnan nan Lnan nan Lnan nan Qnan nan nan nan Qnan nan nan nan Qnan nan nan nan Qnan nan nan nan Lnan nan Lnan nan Lnan nan Qnan nan nan nan Qnan nan nan nan Qnan nan nan nan Qnan nan nan nan Lnan nan Lnan nan Lnan nan Lnan nan Lnan nan Qnan nan nan nan Qnan nan nan nan Qnan nan nan nan Qnan nan nan nan Z\" fill=\"#000000\" fill-rule=\"nonzero\" fill-opacity=\"1\" /><path clip-path=\"url(#clip700)\" d=\"Mnan nan Lnan nan Lnan nan Lnan nan Lnan nan Z\" fill=\"#000000\" fill-rule=\"nonzero\" fill-opacity=\"1\" /><path clip-path=\"url(#clip700)\" d=\"Mnan nan Lnan nan Lnan nan Lnan nan Lnan nan Lnan nan Lnan nan Lnan nan Lnan nan Lnan nan Lnan nan Lnan nan Z\" fill=\"#000000\" fill-rule=\"nonzero\" fill-opacity=\"1\" /><path clip-path=\"url(#clip700)\" d=\"Mnan nan Qnan nan nan nan Qnan nan nan nan Qnan nan nan nan Qnan nan nan nan Qnan nan nan nan Qnan nan nan nan Qnan nan nan nan Qnan nan nan nan Mnan nan Qnan nan nan nan Qnan nan nan nan Qnan nan nan nan Qnan nan nan nan Qnan nan nan nan Qnan nan nan nan Qnan nan nan nan Qnan nan nan nan Z\" fill=\"#000000\" fill-rule=\"nonzero\" fill-opacity=\"1\" /><path clip-path=\"url(#clip700)\" d=\"Mnan nan Qnan nan nan nan Qnan nan nan nan Qnan nan nan nan Qnan nan nan nan Qnan nan nan nan Qnan nan nan nan Qnan nan nan nan Qnan nan nan nan Mnan nan Qnan nan nan nan Qnan nan nan nan Qnan nan nan nan Qnan nan nan nan Lnan nan Qnan nan nan nan Qnan nan nan nan Qnan nan nan nan Qnan nan nan nan Lnan nan Qnan nan nan nan Qnan nan nan nan Qnan nan nan nan Qnan nan nan nan Qnan nan nan nan Qnan nan nan nan Qnan nan nan nan Qnan nan nan nan Lnan nan Lnan nan Lnan nan Z\" fill=\"#000000\" fill-rule=\"nonzero\" fill-opacity=\"1\" /><path clip-path=\"url(#clip700)\" d=\"Mnan nan Lnan nan Lnan nan Lnan nan Qnan nan nan nan Qnan nan nan nan Qnan nan nan nan Qnan nan nan nan Lnan nan Lnan nan Lnan nan Lnan nan Lnan nan Qnan nan nan nan Qnan nan nan nan Qnan nan nan nan Qnan nan nan nan Mnan nan Lnan nan Z\" fill=\"#000000\" fill-rule=\"nonzero\" fill-opacity=\"1\" /><path clip-path=\"url(#clip700)\" d=\"Mnan nan Qnan nan nan nan Qnan nan nan nan Qnan nan nan nan Qnan nan nan nan Qnan nan nan nan Qnan nan nan nan Lnan nan Lnan nan Mnan nan Lnan nan Lnan nan Lnan nan Qnan nan nan nan Qnan nan nan nan Qnan nan nan nan Qnan nan nan nan Qnan nan nan nan Qnan nan nan nan Lnan nan Lnan nan Qnan nan nan nan Qnan nan nan nan Qnan nan nan nan Qnan nan nan nan Lnan nan Qnan nan nan nan Qnan nan nan nan Qnan nan nan nan Qnan nan nan nan Z\" fill=\"#000000\" fill-rule=\"nonzero\" fill-opacity=\"1\" /><path clip-path=\"url(#clip700)\" d=\"Mnan nan Qnan nan nan nan Qnan nan nan nan Qnan nan nan nan Qnan nan nan nan Lnan nan Lnan nan Lnan nan Lnan nan Lnan nan Qnan nan nan nan Qnan nan nan nan Qnan nan nan nan Qnan nan nan nan Lnan nan Z\" fill=\"#000000\" fill-rule=\"nonzero\" fill-opacity=\"1\" /><path clip-path=\"url(#clip700)\" d=\"Mnan nan Qnan nan nan nan Qnan nan nan nan Qnan nan nan nan Qnan nan nan nan Qnan nan nan nan Qnan nan nan nan Lnan nan Lnan nan Mnan nan Lnan nan Lnan nan Lnan nan Qnan nan nan nan Qnan nan nan nan Qnan nan nan nan Qnan nan nan nan Qnan nan nan nan Qnan nan nan nan Lnan nan Lnan nan Qnan nan nan nan Qnan nan nan nan Qnan nan nan nan Qnan nan nan nan Lnan nan Qnan nan nan nan Qnan nan nan nan Qnan nan nan nan Qnan nan nan nan Z\" fill=\"#000000\" fill-rule=\"nonzero\" fill-opacity=\"1\" /><path clip-path=\"url(#clip700)\" d=\"Mnan nan Lnan nan Lnan nan Lnan nan Qnan nan nan nan Qnan nan nan nan Qnan nan nan nan Qnan nan nan nan Lnan nan Lnan nan Lnan nan Lnan nan Lnan nan Qnan nan nan nan Qnan nan nan nan Qnan nan nan nan Qnan nan nan nan Z\" fill=\"#000000\" fill-rule=\"nonzero\" fill-opacity=\"1\" /><path clip-path=\"url(#clip700)\" d=\"Mnan nan Lnan nan Lnan nan Lnan nan Lnan nan Lnan nan Qnan nan nan nan Qnan nan nan nan Lnan nan Lnan nan Lnan nan Qnan nan nan nan Qnan nan nan nan Lnan nan Lnan nan Lnan nan Lnan nan Lnan nan Lnan nan Z\" fill=\"#000000\" fill-rule=\"nonzero\" fill-opacity=\"1\" /><path clip-path=\"url(#clip700)\" d=\"Mnan nan Lnan nan Lnan nan Qnan nan nan nan Qnan nan nan nan Qnan nan nan nan Qnan nan nan nan Lnan nan Qnan nan nan nan Qnan nan nan nan Qnan nan nan nan Qnan nan nan nan Qnan nan nan nan Qnan nan nan nan Qnan nan nan nan Qnan nan nan nan Mnan nan Qnan nan nan nan Qnan nan nan nan Qnan nan nan nan Qnan nan nan nan Lnan nan Z\" fill=\"#000000\" fill-rule=\"nonzero\" fill-opacity=\"1\" /><path clip-path=\"url(#clip700)\" d=\"Mnan nan Lnan nan Lnan nan Qnan nan nan nan Qnan nan nan nan Qnan nan nan nan Qnan nan nan nan Lnan nan Qnan nan nan nan Qnan nan nan nan Qnan nan nan nan Qnan nan nan nan Qnan nan nan nan Qnan nan nan nan Qnan nan nan nan Qnan nan nan nan Mnan nan Qnan nan nan nan Qnan nan nan nan Qnan nan nan nan Qnan nan nan nan Lnan nan Z\" fill=\"#000000\" fill-rule=\"nonzero\" fill-opacity=\"1\" /></svg>\n"
      ]
     },
     "execution_count": 3,
     "metadata": {},
     "output_type": "execute_result"
    },
    {
     "name": "stderr",
     "output_type": "stream",
     "text": [
      "\u001b[33m\u001b[1m┌ \u001b[22m\u001b[39m\u001b[33m\u001b[1mWarning: \u001b[22m\u001b[39mNo strict ticks found\n",
      "\u001b[33m\u001b[1m└ \u001b[22m\u001b[39m\u001b[90m@ PlotUtils ~/.julia/packages/PlotUtils/wo8RM/src/ticks.jl:194\u001b[39m\n",
      "\u001b[33m\u001b[1m┌ \u001b[22m\u001b[39m\u001b[33m\u001b[1mWarning: \u001b[22m\u001b[39mNo strict ticks found\n",
      "\u001b[33m\u001b[1m└ \u001b[22m\u001b[39m\u001b[90m@ PlotUtils ~/.julia/packages/PlotUtils/wo8RM/src/ticks.jl:194\u001b[39m\n",
      "\u001b[33m\u001b[1m┌ \u001b[22m\u001b[39m\u001b[33m\u001b[1mWarning: \u001b[22m\u001b[39mInvalid negative or zero value -3.454145940233765e-20 found at series index 18 for log10 based yscale\n",
      "\u001b[33m\u001b[1m└ \u001b[22m\u001b[39m\u001b[90m@ Plots ~/.julia/packages/Plots/kLeqV/src/utils.jl:106\u001b[39m\n",
      "\u001b[33m\u001b[1m┌ \u001b[22m\u001b[39m\u001b[33m\u001b[1mWarning: \u001b[22m\u001b[39mNo strict ticks found\n",
      "\u001b[33m\u001b[1m└ \u001b[22m\u001b[39m\u001b[90m@ PlotUtils ~/.julia/packages/PlotUtils/wo8RM/src/ticks.jl:194\u001b[39m\n",
      "\u001b[33m\u001b[1m┌ \u001b[22m\u001b[39m\u001b[33m\u001b[1mWarning: \u001b[22m\u001b[39mNo strict ticks found\n",
      "\u001b[33m\u001b[1m└ \u001b[22m\u001b[39m\u001b[90m@ PlotUtils ~/.julia/packages/PlotUtils/wo8RM/src/ticks.jl:194\u001b[39m\n"
     ]
    }
   ],
   "source": [
    "# Load a test problem\n",
    "include(\"tests/tests.jl\")\n",
    "plotSingleInstance(\"tests/rand_test_problems/LSRegrssion_HuberL1_dim128.jld2\", methods, 100)"
   ]
  },
  {
   "cell_type": "code",
   "execution_count": 65,
   "id": "bb2643d2-66d9-4155-868d-18dbe2ad806a",
   "metadata": {},
   "outputs": [
    {
     "data": {
      "text/plain": [
       "6-element Vector{Symbol}:\n",
       " :title\n",
       " :description\n",
       " :q\n",
       " :x0\n",
       " :minVal\n",
       " :xStar"
      ]
     },
     "execution_count": 65,
     "metadata": {},
     "output_type": "execute_result"
    }
   ],
   "source": [
    "# Load test problems\n",
    "@load \"tests/rand_test_problems/LSRegrssion_Square_dim512.jld2\" title description q x0 minVal xStar"
   ]
  },
  {
   "cell_type": "code",
   "execution_count": 67,
   "id": "d7d9da8c-e12d-47f1-8bc5-ba6e4fb1e5e4",
   "metadata": {},
   "outputs": [
    {
     "data": {
      "text/plain": [
       "(Any[519.2840252961395, 96.5359406653061, 48.740003340646055, 29.676006499372015, 14.26882110780652, 10.962317274746024, 6.518927996387248, 5.147143970779278, 3.731500458365182, 2.8680410225994777  …  0.014166932006875323, 0.014201289765038818, 0.013454158069629095, 0.01386622841734066, 0.013189189585894082, 0.013144430891106363, 0.012739162000404569, 0.012607274543700791, 0.012423532674614275, 0.01228851872130833], Any[0.5, 0.1909830056813548, 0.08676057327202916, 0.043873389676309535, 0.027533301954701533, 0.019177029424963618, 0.013649210586830569, 0.010355787585791693, 0.007917130476833805, 0.006332469256189911  …  3.742033027384853e-5, 3.604173574646934e-5, 3.496003387928377e-5, 3.361625993249059e-5, 3.247283394390433e-5, 3.140917844759167e-5, 3.053367621781679e-5, 2.9739449586664766e-5, 2.8972532693847884e-5, 2.8391819663173465e-5], [0.08682493144967823, 0.1297468125294814, -0.11002640470371472, 0.08265264692427576, -0.046257390680283894, -0.1566360128479123, 0.13656695196394697, 0.035537341280067275, -0.24685837762136043, 0.25277219558065644  …  -0.08010079829015958, 0.05765718186483726, -0.07280225011642716, 0.02791672068767781, -0.2366045210095324, -0.13109765138202623, -0.22213668112256757, -0.12242264772874978, -0.08594225779190734, -0.09194589633895789])"
      ]
     },
     "execution_count": 67,
     "metadata": {},
     "output_type": "execute_result"
    }
   ],
   "source": [
    "test( SPGM2(100),q, x0, 100, minVal)"
   ]
  },
  {
   "cell_type": "code",
   "execution_count": null,
   "id": "157139e0-ee2e-4459-b03c-2ec2e89bf578",
   "metadata": {},
   "outputs": [],
   "source": []
  }
 ],
 "metadata": {
  "kernelspec": {
   "display_name": "Julia 1.10.2",
   "language": "julia",
   "name": "julia-1.10"
  },
  "language_info": {
   "file_extension": ".jl",
   "mimetype": "application/julia",
   "name": "julia",
   "version": "1.10.2"
  }
 },
 "nbformat": 4,
 "nbformat_minor": 5
}
